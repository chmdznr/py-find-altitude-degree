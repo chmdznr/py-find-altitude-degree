{
 "cells": [
  {
   "cell_type": "code",
   "execution_count": null,
   "metadata": {},
   "outputs": [],
   "source": [
    "# !pip install pysolar"
   ]
  },
  {
   "cell_type": "code",
   "execution_count": 1,
   "metadata": {},
   "outputs": [],
   "source": [
    "import pysolar.solar\n",
    "from datetime import datetime\n",
    "import pytz\n"
   ]
  },
  {
   "cell_type": "code",
   "execution_count": 8,
   "metadata": {},
   "outputs": [],
   "source": [
    "# koordinat kota Semarang\n",
    "latitude = -6.9667\n",
    "longitude = 110.4167\n",
    "\n",
    "# waktu yang diinginkan\n",
    "tz = 'Asia/Jakarta'\n",
    "date = datetime(2023, 11, 19, 6, 0, 0, tzinfo=pytz.timezone(tz))\n"
   ]
  },
  {
   "cell_type": "code",
   "execution_count": 9,
   "metadata": {},
   "outputs": [],
   "source": [
    "altitude_deg = pysolar.solar.get_altitude(latitude, longitude, date)\n",
    "azimuth_deg = pysolar.solar.get_azimuth(latitude, longitude, date)\n"
   ]
  },
  {
   "cell_type": "code",
   "execution_count": 10,
   "metadata": {},
   "outputs": [
    {
     "name": "stdout",
     "output_type": "stream",
     "text": [
      "altitude: 9.32°\n",
      "azimuth: 108.54°\n"
     ]
    }
   ],
   "source": [
    "print('altitude: {:.2f}°'.format(altitude_deg))\n",
    "print('azimuth: {:.2f}°'.format(azimuth_deg))"
   ]
  }
 ],
 "metadata": {
  "kernelspec": {
   "display_name": "base",
   "language": "python",
   "name": "python3"
  },
  "language_info": {
   "codemirror_mode": {
    "name": "ipython",
    "version": 3
   },
   "file_extension": ".py",
   "mimetype": "text/x-python",
   "name": "python",
   "nbconvert_exporter": "python",
   "pygments_lexer": "ipython3",
   "version": "3.8.8"
  }
 },
 "nbformat": 4,
 "nbformat_minor": 2
}
